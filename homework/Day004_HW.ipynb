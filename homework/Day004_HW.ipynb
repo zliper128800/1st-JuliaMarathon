{
 "cells": [
  {
   "cell_type": "markdown",
   "metadata": {},
   "source": [
    "# Julia 數值系統介紹\n",
    "\n",
    "## Day 004 作業\n",
    "\n",
    "今天的內容提到整數及浮點數型別之最小值和最大值：\n",
    "\n",
    "|是否有正負號|型別|<div style=\"width:120px\">最大值</div>|<div style=\"width:120px\">最小值</div>|\n",
    "|---|---|---|---|\n",
    "|有|Int128, Int64, Int32, Int16, Int8|$2^{位元數-1}-1$|$-2^{位元數-1}$|\n",
    "|無|UInt128, UInt64, UInt32, UInt16, UInt8|$2^{位元數}-1$|$0$|\n",
    "\n",
    "|型別|最小值|最大值|\n",
    "|---|---|---|\n",
    "|`Float64`|-Inf|Inf|\n",
    "|`Float32`|-Inf 或 -Inf32|Inf 或 Inf32|\n",
    "|`Float16`|-Inf 或 -Inf16|Inf 或 Inf16|\n",
    "\n",
    "### 作業：範例程式示範了 Int64 及 Float64 的最小值和最大值，作業請列出並觀察其他整數及浮點數型別的最小值和最大值。"
   ]
  },
  {
   "cell_type": "markdown",
   "metadata": {},
   "source": [
    "呼叫 `typemin()` 及 `typemax()` 函式得到各型別的最小值和最大值。\n",
    "\n",
    "列出 Int128, Int32, Int16, Int8, UInt128, UInt64, UInt32, UInt16, UInt8 整數型別的最小值及最大值"
   ]
  },
  {
   "cell_type": "code",
   "execution_count": 47,
   "metadata": {
    "scrolled": false
   },
   "outputs": [
    {
     "name": "stdout",
     "output_type": "stream",
     "text": [
      "Int128 : 最小值 -170141183460469231731687303715884105728 最大值 170141183460469231731687303715884105727 \n",
      "Int32  : 最小值 -2147483648                              最大值 2147483647                              \n",
      "Int16  : 最小值 -32768                                   最大值 32767                                   \n",
      "Int8   : 最小值 -128                                     最大值 127                                     \n",
      "\n",
      "UInt128: 最小值 0                                        最大值 340282366920938463463374607431768211455 \n",
      "UInt64 : 最小值 0                                        最大值 18446744073709551615                    \n",
      "UInt32 : 最小值 0                                        最大值 4294967295                              \n",
      "UInt16 : 最小值 0                                        最大值 65535                                   \n",
      "UInt8  : 最小值 0                                        最大值 255                                     \n"
     ]
    }
   ],
   "source": [
    "println(\"$(rpad(Int128,7)): 最小值 $(rpad(typemin(Int128),40)) 最大值 $(rpad(typemax(Int128),40))\")\n",
    "println(\"$(rpad(Int32,7)): 最小值 $(rpad(typemin(Int32),40)) 最大值 $(rpad(typemax(Int32),40))\")\n",
    "println(\"$(rpad(Int16,7)): 最小值 $(rpad(typemin(Int16),40)) 最大值 $(rpad(typemax(Int16),40))\")\n",
    "println(\"$(rpad(Int8,7)): 最小值 $(rpad(typemin(Int8),40)) 最大值 $(rpad(typemax(Int8),40))\")\n",
    "println()\n",
    "println(\"$(rpad(UInt128,7)): 最小值 $(rpad(typemin(UInt128),40)) 最大值 $(rpad(typemax(UInt128),40))\")\n",
    "println(\"$(rpad(UInt64,7)): 最小值 $(rpad(typemin(UInt64),40)) 最大值 $(rpad(typemax(UInt64),40))\")\n",
    "println(\"$(rpad(UInt32,7)): 最小值 $(rpad(typemin(UInt32),40)) 最大值 $(rpad(typemax(UInt32),40))\")\n",
    "println(\"$(rpad(UInt16,7)): 最小值 $(rpad(typemin(UInt16),40)) 最大值 $(rpad(typemax(UInt16),40))\")\n",
    "println(\"$(rpad(UInt8,7)): 最小值 $(rpad(typemin(UInt8),40)) 最大值 $(rpad(typemax(UInt8),40))\")"
   ]
  },
  {
   "cell_type": "markdown",
   "metadata": {},
   "source": [
    "列出 Float32, Float16 浮點數型別的最小和最大值"
   ]
  },
  {
   "cell_type": "code",
   "execution_count": 48,
   "metadata": {
    "scrolled": true
   },
   "outputs": [
    {
     "name": "stdout",
     "output_type": "stream",
     "text": [
      "Float32: 最小值 -Inf                                     最大值 Inf                                     \n",
      "Float16: 最小值 -Inf                                     最大值 Inf                                     \n"
     ]
    }
   ],
   "source": [
    "println(\"$(rpad(Float32,7)): 最小值 $(rpad(typemin(Float32),40)) 最大值 $(rpad(typemax(Float32),40))\")\n",
    "println(\"$(rpad(Float16,7)): 最小值 $(rpad(typemin(Float16),40)) 最大值 $(rpad(typemax(Float16),40))\")"
   ]
  }
 ],
 "metadata": {
  "kernelspec": {
   "display_name": "Julia 1.4.0",
   "language": "julia",
   "name": "julia-1.4"
  },
  "language_info": {
   "file_extension": ".jl",
   "mimetype": "application/julia",
   "name": "julia",
   "version": "1.4.0"
  }
 },
 "nbformat": 4,
 "nbformat_minor": 4
}
