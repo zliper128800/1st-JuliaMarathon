{
 "cells": [
  {
   "cell_type": "markdown",
   "metadata": {},
   "source": [
    "# Julia 基礎圖表繪製：Gadfly 一維資料圖表\n",
    "\n",
    "## 作業 021"
   ]
  },
  {
   "cell_type": "markdown",
   "metadata": {},
   "source": [
    "1. 比較看看盒狀圖與 violin plot 在同樣的資料上分別展現資料的什麼特性。"
   ]
  },
  {
   "cell_type": "markdown",
   "metadata": {},
   "source": [
    "2. 同樣的資料可以以條狀圖或是線圖繪製，思考兩者在表現資料上的特點。"
   ]
  },
  {
   "cell_type": "markdown",
   "metadata": {},
   "source": [
    "## 答案\n",
    "\n",
    "#### 1.\n",
    "####  盒狀圖（box plot）將一組數據以上下四分位數延伸出去，能簡單且直觀地顯示數據的最大值、最小值、中位數、及上下四分位數。\n",
    "#### 小提琴圖（violin plot）和箱形圖（box plot）相似，但在圖形的呈現上增強了樣本數據的分佈（density trace）。\n",
    "#### 兩者皆可看到資料的分布情形，但盒狀圖（box plot）無法提供數據的偏態分布。在分析大型的數據中，對於總體分數的表現有一定的局限性。\n",
    "#### 而小提琴圖（violin plot）則顯示整個數據范圍，能夠更精確地顯示數據的集中和離散程度。\n"
   ]
  },
  {
   "cell_type": "markdown",
   "metadata": {},
   "source": [
    "#### 2. \n",
    "#### 條狀圖（bar chart）注重數量的大小變化，線圖（line chart）則強調資料的變化趨勢"
   ]
  }
 ],
 "metadata": {
  "kernelspec": {
   "display_name": "Julia 1.4.0",
   "language": "julia",
   "name": "julia-1.4"
  },
  "language_info": {
   "file_extension": ".jl",
   "mimetype": "application/julia",
   "name": "julia",
   "version": "1.4.0"
  }
 },
 "nbformat": 4,
 "nbformat_minor": 4
}
